{
 "cells": [
  {
   "cell_type": "markdown",
   "metadata": {},
   "source": [
    "## Lesson Notes -- Part 1 -- The Very Basics"
   ]
  },
  {
   "cell_type": "markdown",
   "metadata": {},
   "source": [
    "### First Steps - Jupyter Intro\n",
    "\n",
    "- Start a Jupyter notebook\n",
    "    - Jupyter notebooks provide an environment for running code, viewing output, and documenting work\n",
    "    - Code is split into `Cells`\n",
    "        - Each cell can be executed individually\n",
    "        - Use `Run` at the top to run a cell\n",
    "        - Use `+` symbol to insert new cell\n",
    "        - Easier:\n",
    "            - Use `Ctrl/Cmd + Enter` to run a cell\n",
    "            - Use `Shift + Enter` to run a cell and go to the next cell (inserts a new one if at the end)\n",
    "            - Use `Alt + Enter` to run a cell and insert a new one\n",
    "    - Each cell can be either code...\n",
    "        - Basic python hello world example\n",
    "        - Note that the state is kept (see numbers of the left)\n",
    "        - To run code \"fresh\", use `Restart`\n",
    "    - ...or text, here markdown\n",
    "        - Example of text\n",
    "        - Example of heading\n",
    "        - Example of list\n",
    "        - Side note: Markdown does most of what HTML does\n",
    "    - There is also the Raw setting, which can be useful to keep code around without executing it\n",
    "    \n",
    "_<font color=darkorange>**START OF DEMO 1 (Jupyter Intro):**</font>_\n",
    "\n",
    "----"
   ]
  },
  {
   "cell_type": "code",
   "execution_count": null,
   "metadata": {},
   "outputs": [],
   "source": [
    "1"
   ]
  },
  {
   "cell_type": "code",
   "execution_count": null,
   "metadata": {},
   "outputs": [],
   "source": [
    "1 + 1"
   ]
  },
  {
   "cell_type": "code",
   "execution_count": null,
   "metadata": {},
   "outputs": [],
   "source": [
    "1\n",
    "1 + 1"
   ]
  },
  {
   "cell_type": "code",
   "execution_count": null,
   "metadata": {},
   "outputs": [],
   "source": [
    "print(1)\n",
    "1 + 1"
   ]
  },
  {
   "cell_type": "code",
   "execution_count": null,
   "metadata": {},
   "outputs": [],
   "source": [
    "1 + 1\n",
    "\n",
    "# This is a comment in a code cell; everything behind # is ignored when the cell runs"
   ]
  },
  {
   "cell_type": "markdown",
   "metadata": {},
   "source": [
    "### This is a Heading\n",
    "\n",
    "Jupyter notebooks allow you to:\n",
    "\n",
    "1. Write and execute code\n",
    "2. View the output\n",
    "3. Document your work\n",
    "\n",
    "<font color=purple>Jupyter markdown cells will render (most) HTML!</font>\n",
    "\n",
    "$F = G\\frac{m_1m_2}{d^2}$"
   ]
  },
  {
   "cell_type": "markdown",
   "metadata": {},
   "source": [
    "----\n",
    "\n",
    "_<font color=darkorange>**END OF DEMO 1**</font>_"
   ]
  },
  {
   "cell_type": "markdown",
   "metadata": {},
   "source": [
    "### Python Basics: Variables and Types"
   ]
  },
  {
   "cell_type": "markdown",
   "metadata": {},
   "source": [
    "- Python scripts are really just text files that python can interpret and execute\n",
    "    - Demonstrate by creating a \"hello world\" .py file and running it in the console\n",
    "    - In Jupyter, the code cells take the function of these text files\n",
    "\n",
    "\n",
    "- Now let's get started with actual python programming\n",
    "    - From now on, code along with me!\n",
    "    \n",
    "    \n",
    "- Demo concepts:\n",
    "    - Variables hold values\n",
    "    - We assign values to variables with `=`\n",
    "    - Use `print` to display stuff\n",
    "    - Variables need to be defined before they are used\n",
    "    - Variable names are case sensitive\n",
    "    - Some things are not allowed in variable names\n",
    "    - Side notes on errors:\n",
    "        - Error messages hold information\n",
    "        - The state of the notebook doesn't get reset\n",
    "        - Syntax error means the cell hasn't been executed at all\n",
    "    - Variables have types\n",
    "    - Variables can be used for calculations\n",
    "    - The calculation that happens depends on the type\n",
    "    - Type conversions are possible\n",
    "    - Indexing and slicing\n",
    "    - Use meaningful variable names"
   ]
  },
  {
   "cell_type": "markdown",
   "metadata": {},
   "source": [
    "_<font color=darkorange>**START OF DEMO 2 (variables and types):**</font>_\n",
    "\n",
    "----"
   ]
  },
  {
   "cell_type": "code",
   "execution_count": null,
   "metadata": {},
   "outputs": [],
   "source": [
    "# Variables are assigned values with `=`\n",
    "\n",
    "my_age = 32"
   ]
  },
  {
   "cell_type": "code",
   "execution_count": null,
   "metadata": {},
   "outputs": [],
   "source": [
    "my_age"
   ]
  },
  {
   "cell_type": "code",
   "execution_count": null,
   "metadata": {},
   "outputs": [],
   "source": [
    "print(my_age)"
   ]
  },
  {
   "cell_type": "code",
   "execution_count": null,
   "metadata": {},
   "outputs": [],
   "source": [
    "my_name = 'Jonas'\n",
    "my_name"
   ]
  },
  {
   "cell_type": "code",
   "execution_count": null,
   "metadata": {},
   "outputs": [],
   "source": [
    "# Variables need to be defined before they are used\n",
    "\n",
    "print(my_phone_number)"
   ]
  },
  {
   "cell_type": "code",
   "execution_count": null,
   "metadata": {},
   "outputs": [],
   "source": [
    "# Variables are case sensitive\n",
    "\n",
    "print(My_Name)"
   ]
  },
  {
   "cell_type": "code",
   "execution_count": null,
   "metadata": {},
   "outputs": [],
   "source": [
    "# Not everything is allowed in variable names...\n",
    "\n",
    "my.name = 'Jonas'"
   ]
  },
  {
   "cell_type": "code",
   "execution_count": null,
   "metadata": {},
   "outputs": [],
   "source": [
    "my*name = 'Jonas'"
   ]
  },
  {
   "cell_type": "code",
   "execution_count": null,
   "metadata": {},
   "outputs": [],
   "source": [
    "3name = 'Jonas'"
   ]
  },
  {
   "cell_type": "code",
   "execution_count": null,
   "metadata": {},
   "outputs": [],
   "source": [
    "_my_name = 'Jonas'\n",
    "\n",
    "# ->> Works, but by convention is reserved for stuff we won't cover/use here!"
   ]
  },
  {
   "cell_type": "code",
   "execution_count": null,
   "metadata": {},
   "outputs": [],
   "source": [
    "# Syntax error means the cell never runs at all\n",
    "\n",
    "my_location = 'home'\n",
    "print(my_location)))"
   ]
  },
  {
   "cell_type": "code",
   "execution_count": null,
   "metadata": {},
   "outputs": [],
   "source": [
    "my_location"
   ]
  },
  {
   "cell_type": "code",
   "execution_count": null,
   "metadata": {},
   "outputs": [],
   "source": [
    "# But other errors generally mean the cell will have run until the point where errors occur\n",
    "\n",
    "my_location = 'home'\n",
    "print(something)"
   ]
  },
  {
   "cell_type": "code",
   "execution_count": null,
   "metadata": {},
   "outputs": [],
   "source": [
    "my_location"
   ]
  },
  {
   "cell_type": "code",
   "execution_count": null,
   "metadata": {},
   "outputs": [],
   "source": [
    "# Variables have different types\n",
    "\n",
    "type(my_age)"
   ]
  },
  {
   "cell_type": "code",
   "execution_count": null,
   "metadata": {},
   "outputs": [],
   "source": [
    "type(my_name)"
   ]
  },
  {
   "cell_type": "code",
   "execution_count": null,
   "metadata": {},
   "outputs": [],
   "source": [
    "# Now let's actually compute something\n",
    "\n",
    "new_age = my_age + 3\n",
    "print(\"My age in 3 years:\", new_age)"
   ]
  },
  {
   "cell_type": "code",
   "execution_count": null,
   "metadata": {},
   "outputs": [],
   "source": [
    "# You can assign back to a variable you are using, overwriting it\n",
    "\n",
    "my_age = my_age + 1\n",
    "my_age"
   ]
  },
  {
   "cell_type": "code",
   "execution_count": null,
   "metadata": {},
   "outputs": [],
   "source": [
    "# You can do all sorts of basic maths operations\n",
    "\n",
    "print(my_age - 2)\n",
    "print(my_age * 2)\n",
    "print(my_age / 2)\n",
    "print(my_age ** 2)\n",
    "\n",
    "# Quick question: there isn't a symbol for root; any ideas how one could quickly do that?\n",
    "\n",
    "print(my_age ** 1/2)  \n",
    "\n",
    "# Will this work? ->> No, because the power operators bind as usual, so brackets are needed:\n",
    "\n",
    "print(my_age ** (1/2))"
   ]
  },
  {
   "cell_type": "code",
   "execution_count": null,
   "metadata": {},
   "outputs": [],
   "source": [
    "# Brackets are used to call functions like `print` or `type`,\n",
    "# but they also work for grouping operations as you would expect\n",
    "\n",
    "my_age + 2 / 2"
   ]
  },
  {
   "cell_type": "code",
   "execution_count": null,
   "metadata": {},
   "outputs": [],
   "source": [
    "(my_age + 2) / 2 "
   ]
  },
  {
   "cell_type": "code",
   "execution_count": null,
   "metadata": {},
   "outputs": [],
   "source": [
    "# The variable type defines what the operations means\n",
    "\n",
    "full_name = my_name + \" Hartmann\"\n",
    "full_name"
   ]
  },
  {
   "cell_type": "code",
   "execution_count": null,
   "metadata": {},
   "outputs": [],
   "source": [
    "# Not all type combinations are allowed\n",
    "\n",
    "my_age + my_name"
   ]
  },
  {
   "cell_type": "code",
   "execution_count": null,
   "metadata": {},
   "outputs": [],
   "source": [
    "# Types can be changed where reasonable\n",
    "\n",
    "str(my_age) + my_name"
   ]
  },
  {
   "cell_type": "code",
   "execution_count": null,
   "metadata": {},
   "outputs": [],
   "source": [
    "my_age + int(my_name)"
   ]
  },
  {
   "cell_type": "code",
   "execution_count": null,
   "metadata": {},
   "outputs": [],
   "source": [
    "my_age + '15'"
   ]
  },
  {
   "cell_type": "code",
   "execution_count": null,
   "metadata": {},
   "outputs": [],
   "source": [
    "my_age + int('15')"
   ]
  },
  {
   "cell_type": "code",
   "execution_count": null,
   "metadata": {},
   "outputs": [],
   "source": [
    "# There are many \"built-in\" functions\n",
    "\n",
    "len(my_name)"
   ]
  },
  {
   "cell_type": "code",
   "execution_count": null,
   "metadata": {},
   "outputs": [],
   "source": [
    "# What they do is also type-specific\n",
    "\n",
    "len(my_age)"
   ]
  },
  {
   "cell_type": "code",
   "execution_count": null,
   "metadata": {},
   "outputs": [],
   "source": [
    "# What about non-integer numbers?\n",
    "\n",
    "some_number = 3.1415926"
   ]
  },
  {
   "cell_type": "code",
   "execution_count": null,
   "metadata": {},
   "outputs": [],
   "source": [
    "type(some_number)"
   ]
  },
  {
   "cell_type": "code",
   "execution_count": null,
   "metadata": {},
   "outputs": [],
   "source": [
    "# string -> text\n",
    "# int    -> integer number\n",
    "# float  -> floating point number (fraction)"
   ]
  },
  {
   "cell_type": "code",
   "execution_count": null,
   "metadata": {},
   "outputs": [],
   "source": [
    "# Python automatically changes int to float if required for a calculation\n",
    "\n",
    "1 / 2"
   ]
  },
  {
   "cell_type": "code",
   "execution_count": null,
   "metadata": {},
   "outputs": [],
   "source": [
    "# Of course, this can be converted back (sometimes we need this)\n",
    "\n",
    "int(1 / 2)"
   ]
  },
  {
   "cell_type": "code",
   "execution_count": null,
   "metadata": {},
   "outputs": [],
   "source": [
    "# This can be prevent in special cases\n",
    "\n",
    "1 // 2"
   ]
  },
  {
   "cell_type": "code",
   "execution_count": null,
   "metadata": {},
   "outputs": [],
   "source": [
    "int(3.9999)"
   ]
  },
  {
   "cell_type": "code",
   "execution_count": null,
   "metadata": {},
   "outputs": [],
   "source": [
    "# Let's get back to the full name\n",
    "\n",
    "full_name"
   ]
  },
  {
   "cell_type": "code",
   "execution_count": null,
   "metadata": {},
   "outputs": [],
   "source": [
    "# Indexing can be used to get specific entries out of sequences\n",
    "\n",
    "full_name[0] + full_name[6]\n",
    "\n",
    "# Note that python counts from zero!"
   ]
  },
  {
   "cell_type": "code",
   "execution_count": null,
   "metadata": {},
   "outputs": [],
   "source": [
    "# Slicing (start and end index) can get a range of characters\n",
    "\n",
    "full_name[0:5]\n",
    "\n",
    "# Note that the first element is inclusive, the last is exclusive!\n",
    "\n",
    "# More on indexing and slicing later!"
   ]
  },
  {
   "cell_type": "code",
   "execution_count": null,
   "metadata": {},
   "outputs": [],
   "source": [
    "# Python doesn't care about what variable names you use...\n",
    "\n",
    "print('Hi, my name is', my_name, 'and I am', my_age, 'years old!')"
   ]
  },
  {
   "cell_type": "code",
   "execution_count": null,
   "metadata": {},
   "outputs": [],
   "source": [
    "# ...but you should use meaningful variable names\n",
    "\n",
    "asdasdasdr = 'Jonas'\n",
    "fkerjferpr = 33\n",
    "print('Hi, my name is', asdasdasdr, 'and I am', fkerjferpr, 'years old!')"
   ]
  },
  {
   "cell_type": "code",
   "execution_count": null,
   "metadata": {},
   "outputs": [],
   "source": [
    "# That also includes not overusing abbreviations\n",
    "\n",
    "a = 'Jonas'\n",
    "b = 33\n",
    "print('Hi, my name is', a, 'and I am', b, 'years old!')"
   ]
  },
  {
   "cell_type": "markdown",
   "metadata": {},
   "source": [
    "----\n",
    "\n",
    "_<font color=darkorange>**END OF DEMO 2**</font>_\n",
    "\n",
    "_<font color=purple>**START OF EXERCISES 1 (variables and types):**</font>_\n",
    "\n",
    "----"
   ]
  },
  {
   "cell_type": "code",
   "execution_count": null,
   "metadata": {},
   "outputs": [],
   "source": [
    "# Understand what the value of each variable is after each assignment step\n",
    "\n",
    "x = 1.0\n",
    "y = 3.0\n",
    "swap = x\n",
    "x = y\n",
    "y = swap"
   ]
  },
  {
   "cell_type": "code",
   "execution_count": null,
   "metadata": {},
   "outputs": [],
   "source": [
    "# ->> x becomes 3.0 and y becomes 1.0"
   ]
  },
  {
   "cell_type": "code",
   "execution_count": null,
   "metadata": {},
   "outputs": [],
   "source": [
    "# Given an age in years:\n",
    "\n",
    "my_age_in_years = 32\n",
    "\n",
    "# Find a way to calculate your age in seconds (approximately)"
   ]
  },
  {
   "cell_type": "code",
   "execution_count": null,
   "metadata": {},
   "outputs": [],
   "source": [
    "# ->> Solution:\n",
    "\n",
    "my_age_in_seconds = my_age_in_years * 365 * 24 * 60 * 60\n",
    "my_age_in_seconds"
   ]
  },
  {
   "cell_type": "code",
   "execution_count": null,
   "metadata": {},
   "outputs": [],
   "source": [
    "# Slicing partice: what does the following program return?\n",
    "\n",
    "# Think before you run it!\n",
    "\n",
    "atom_name = 'carbon'\n",
    "print('atom_name[1:3] is:', atom_name[1:3])"
   ]
  },
  {
   "cell_type": "code",
   "execution_count": null,
   "metadata": {},
   "outputs": [],
   "source": [
    "# ->> The 1 stands for the second element, the 3 for the 4th (but it's exclusive, so only up to 3rd)"
   ]
  },
  {
   "cell_type": "code",
   "execution_count": null,
   "metadata": {},
   "outputs": [],
   "source": [
    "# More slicing: what happens if you leave out the start or end (or both)? What about negative indices?\n",
    "\n",
    "print(full_name[4:])\n",
    "print(full_name[:6])\n",
    "print(full_name[:])\n",
    "print(full_name[-5])\n",
    "print(full_name[3:-5])"
   ]
  },
  {
   "cell_type": "code",
   "execution_count": null,
   "metadata": {},
   "outputs": [],
   "source": [
    "# ->> Leaving out the start and end uses the first and last element, inclusive.\n",
    "#     Negative numbers count from the end (with -1 being the last element)"
   ]
  },
  {
   "cell_type": "code",
   "execution_count": null,
   "metadata": {},
   "outputs": [],
   "source": [
    "# Given the following:\n",
    "\n",
    "a = 123\n",
    "\n",
    "# Find a way to return the second digit (2)"
   ]
  },
  {
   "cell_type": "code",
   "execution_count": null,
   "metadata": {},
   "outputs": [],
   "source": [
    "# ->> a is an integer, which is not a sequence, so you need to convert and then index\n",
    "\n",
    "int(str(a)[1])"
   ]
  },
  {
   "cell_type": "code",
   "execution_count": null,
   "metadata": {},
   "outputs": [],
   "source": [
    "# Can you figure out what the % operator does, e.g.\n",
    "\n",
    "32 % 5"
   ]
  },
  {
   "cell_type": "code",
   "execution_count": null,
   "metadata": {},
   "outputs": [],
   "source": [
    "# ->> It gives you the remainder!\n",
    "\n",
    "# In this case, 32 divides 6 times by 5, with a remainder of two:\n",
    "\n",
    "print(32 // 5)\n",
    "print(32 % 5)\n",
    "\n",
    "# `%` is also called the \"modulo\" operator, which gives you the \"modulus\"."
   ]
  },
  {
   "cell_type": "markdown",
   "metadata": {},
   "source": [
    "<font color=purple>**Question:**</font>\n",
    "\n",
    "Which is better:\n",
    "\n",
    "- `ts = m * 60 + s`\n",
    "- `tot_sec = min * 60 + sec`\n",
    "- `total_seconds = minutes * 60 + seconds`\n",
    "\n",
    "The longest form is best, as `min` is already reserved for something else!\n",
    "\n",
    "However, three letter appreviations like `sec` are often a good choice in simple cases."
   ]
  },
  {
   "cell_type": "markdown",
   "metadata": {},
   "source": [
    "----\n",
    "\n",
    "_<font color=purple>**END OF EXERCISES 1**</font>_\n",
    "\n",
    "Let us briefly review:\n",
    "\n",
    "- We assign values to variables\n",
    "- Each value has a type\n",
    "- We can perform operations on variables\n",
    "- The type controls what operation is performed"
   ]
  },
  {
   "cell_type": "markdown",
   "metadata": {},
   "source": [
    "### Python Basics: Built-In Functions & Help\n",
    "\n",
    "- With these very basics in hand, let's get to the modularity\n",
    "    - A `function` in computing is a sequence of instructions (so just a bunch of code)...\n",
    "    - ...that has been bundled up so that it can be used repeatedly as a higher-level building block in other code\n",
    "    \n",
    "\n",
    "- Concepts covered:\n",
    "    - What are functions\n",
    "    - How to call functions\n",
    "    - Commonly used built-in functions\n",
    "    - Functions need specific arguments\n",
    "    - Functions may have default values for arguments\n",
    "    - Functions attached to objects are called methods\n",
    "    - Use built-in function `help` to get information (+jupyter help)\n",
    "    - Beyond built-in functions: libraries\n",
    "    - Importing libraries\n",
    "    - Using help to learn about libraries\n",
    "    - There are libraries for everything!\n",
    "    \n",
    "    \n",
    "_<font color=darkorange>**START OF DEMO 3 (functions and libraries):**</font>_\n",
    "\n",
    "----"
   ]
  },
  {
   "cell_type": "code",
   "execution_count": null,
   "metadata": {},
   "outputs": [],
   "source": [
    "# We've already seen some functions, e.g. print\n",
    "\n",
    "print(print)"
   ]
  },
  {
   "cell_type": "code",
   "execution_count": null,
   "metadata": {},
   "outputs": [],
   "source": [
    "# Another one\n",
    "\n",
    "max(1, 2, 3)"
   ]
  },
  {
   "cell_type": "code",
   "execution_count": null,
   "metadata": {},
   "outputs": [],
   "source": [
    "print(max)"
   ]
  },
  {
   "cell_type": "code",
   "execution_count": null,
   "metadata": {},
   "outputs": [],
   "source": [
    "# - We say a function is \"called\" when we execute it.\n",
    "# - In python, this is done with the brackets\n",
    "# - The input for the function goes into the brackets; these are called \"arguments\""
   ]
  },
  {
   "cell_type": "code",
   "execution_count": null,
   "metadata": {},
   "outputs": [],
   "source": [
    "# Some functions can be called without arguments...\n",
    "\n",
    "print('x')\n",
    "print()\n",
    "print('y')"
   ]
  },
  {
   "cell_type": "code",
   "execution_count": null,
   "metadata": {},
   "outputs": [],
   "source": [
    "# ...but others cannot\n",
    "\n",
    "max()"
   ]
  },
  {
   "cell_type": "code",
   "execution_count": null,
   "metadata": {},
   "outputs": [],
   "source": [
    "# The type of argument can also make a difference\n",
    "\n",
    "print(max(2,3,1))\n",
    "print(max('a','c','b'))"
   ]
  },
  {
   "cell_type": "code",
   "execution_count": null,
   "metadata": {},
   "outputs": [],
   "source": [
    "print(max(2,'a'))"
   ]
  },
  {
   "cell_type": "code",
   "execution_count": null,
   "metadata": {},
   "outputs": [],
   "source": [
    "# Some arguments have default values\n",
    "\n",
    "round(3.756)"
   ]
  },
  {
   "cell_type": "code",
   "execution_count": null,
   "metadata": {},
   "outputs": [],
   "source": [
    "round(3.76, 1)"
   ]
  },
  {
   "cell_type": "code",
   "execution_count": null,
   "metadata": {},
   "outputs": [],
   "source": [
    "round(3.76, ndigits=1)"
   ]
  },
  {
   "cell_type": "code",
   "execution_count": null,
   "metadata": {},
   "outputs": [],
   "source": [
    "# Functions can be attached to objects; \n",
    "# in that case they are called \"methods\"\n",
    "# and are accessed using at '.'\n",
    "\n",
    "# For example, strings have several useful methods:\n",
    "\n",
    "my_string = 'winter is coming'\n",
    "print(my_string)\n",
    "print(my_string.isupper())\n",
    "print(my_string.upper())\n",
    "print(my_string.upper().isupper())"
   ]
  },
  {
   "cell_type": "code",
   "execution_count": null,
   "metadata": {},
   "outputs": [],
   "source": [
    "# You can see the methods associated with an object by writing the '.' and then pressing `tab`\n",
    "\n",
    "my_string.replace('coming', 'over')"
   ]
  },
  {
   "cell_type": "code",
   "execution_count": null,
   "metadata": {},
   "outputs": [],
   "source": [
    "# How to find out what a function does and how to call it?\n",
    "\n",
    "help(round)\n",
    "\n",
    "# Go through this"
   ]
  },
  {
   "cell_type": "code",
   "execution_count": null,
   "metadata": {},
   "outputs": [],
   "source": [
    "round?  # In Jupyter notebooks"
   ]
  },
  {
   "cell_type": "code",
   "execution_count": null,
   "metadata": {},
   "outputs": [],
   "source": [
    "round  # In Jupyter notebooks: `shift+tab`"
   ]
  },
  {
   "cell_type": "code",
   "execution_count": null,
   "metadata": {},
   "outputs": [],
   "source": [
    "# By the way, functions always return something, even if it's not obvious\n",
    "\n",
    "number = 6.89\n",
    "rounded_number = round(number)\n",
    "rounded_number"
   ]
  },
  {
   "cell_type": "code",
   "execution_count": null,
   "metadata": {},
   "outputs": [],
   "source": [
    "print('something')"
   ]
  },
  {
   "cell_type": "code",
   "execution_count": null,
   "metadata": {},
   "outputs": [],
   "source": [
    "returned_by_print = print('something')"
   ]
  },
  {
   "cell_type": "code",
   "execution_count": null,
   "metadata": {},
   "outputs": [],
   "source": [
    "print(returned_by_print)"
   ]
  },
  {
   "cell_type": "code",
   "execution_count": null,
   "metadata": {},
   "outputs": [],
   "source": [
    "None  # Note: None is not a string; it's a special object denoting \"nothing\""
   ]
  },
  {
   "cell_type": "code",
   "execution_count": null,
   "metadata": {},
   "outputs": [],
   "source": [
    "type(None)"
   ]
  },
  {
   "cell_type": "markdown",
   "metadata": {},
   "source": [
    "_<font color=purple>**Brief exercise:**</font>_"
   ]
  },
  {
   "cell_type": "code",
   "execution_count": null,
   "metadata": {},
   "outputs": [],
   "source": [
    "# Understand the order of operations in this example.\n",
    "\n",
    "# What will be the value of some_number at the end?\n",
    "\n",
    "some_number = 1.0\n",
    "some_number = max(2.1, 2.0 + min(some_number, 1.1 * some_number - 0.5))"
   ]
  },
  {
   "cell_type": "markdown",
   "metadata": {},
   "source": [
    "_**Continuing on to libraries**_"
   ]
  },
  {
   "cell_type": "code",
   "execution_count": null,
   "metadata": {},
   "outputs": [],
   "source": [
    "# The functions we've used so far are \"built-in\" functions\n",
    "\n",
    "print(print)"
   ]
  },
  {
   "cell_type": "markdown",
   "metadata": {},
   "source": [
    "- But I said the power of modularity is in using other people's work as building blocks for your own.\n",
    "    - This goes a lot further than just built-ins.\n",
    "    - That's where libraries come in!\n",
    "\n",
    "\n",
    "- Libraries provide collections of functions (and related types/objects) that are useful for a certain type of work, e.g. a certain field of research.\n",
    "    - Maths, statistics, plotting, robots, sound design, machine learning, video games, genome sequence analysis, ...\n",
    "\n",
    "\n",
    "- Big libraries may consist of several sublibraries, called \"modules\"\n",
    "    - The terms \"library\" and \"module\" are often used interchangeably\n",
    "\n",
    "\n",
    "- Two types of python libraries:\n",
    "    - The python [standard library](https://docs.python.org/3/library) (included in basic python)\n",
    "    - Other libraries (anyone can make one)\n",
    "        - Most of them can be found on the Python Package Index [PyPI](https://pypi.org) [demonstrate with \"astro\"!]\n",
    "        - The Anaconda distribution comes with many key scientific libraries included"
   ]
  },
  {
   "cell_type": "code",
   "execution_count": null,
   "metadata": {},
   "outputs": [],
   "source": [
    "# To use the contents of a module, one has to import it\n",
    "\n",
    "import math   # Math is a module of the standard library containing basic maths tools"
   ]
  },
  {
   "cell_type": "code",
   "execution_count": null,
   "metadata": {},
   "outputs": [],
   "source": [
    "# Using the `.` notation, we can then get things out of an imported module\n",
    "\n",
    "math.pi"
   ]
  },
  {
   "cell_type": "code",
   "execution_count": null,
   "metadata": {},
   "outputs": [],
   "source": [
    "pi"
   ]
  },
  {
   "cell_type": "code",
   "execution_count": null,
   "metadata": {},
   "outputs": [],
   "source": [
    "math.cos(math.pi)"
   ]
  },
  {
   "cell_type": "code",
   "execution_count": null,
   "metadata": {},
   "outputs": [],
   "source": [
    "help(math)"
   ]
  },
  {
   "cell_type": "code",
   "execution_count": null,
   "metadata": {},
   "outputs": [],
   "source": [
    "# We can import specific items from a library/module\n",
    "\n",
    "from math import pi, cos\n",
    "\n",
    "print(pi)\n",
    "print(cos(pi))"
   ]
  },
  {
   "cell_type": "code",
   "execution_count": null,
   "metadata": {},
   "outputs": [],
   "source": [
    "# When importing a full library/module, it is common to create a shorthand\n",
    "\n",
    "import math as m\n",
    "\n",
    "print(m.pi)\n",
    "print(m.cos(m.pi))"
   ]
  },
  {
   "cell_type": "markdown",
   "metadata": {},
   "source": [
    "----\n",
    "\n",
    "_<font color=darkorange>**END OF DEMO 3**</font>_\n",
    "\n",
    "_<font color=purple>**START OF EXERCISES 2 (functions and libraries):**</font>_\n",
    "\n",
    "----"
   ]
  },
  {
   "cell_type": "code",
   "execution_count": null,
   "metadata": {},
   "outputs": [],
   "source": [
    "# Predict what the outputs of the following print statements would be\n",
    "\n",
    "# First think about it, then run it to check, then make sure you understand.\n",
    "# If a behavior is not clear, try running the same function with different\n",
    "# examples to figure it out!\n",
    "\n",
    "easy_string = \"abc\"\n",
    "print(max(easy_string))\n",
    "\n",
    "rich = \"gold\"\n",
    "poor = \"tin\"\n",
    "print(max(rich, poor))\n",
    "print(max(len(rich), len(poor)))"
   ]
  },
  {
   "cell_type": "code",
   "execution_count": null,
   "metadata": {},
   "outputs": [],
   "source": [
    "# ->> max(string) gives the character that comes last in the alphabet\n",
    "# ->> max(string, string) gives the string that comes last in an alpha-numerical sorting\n",
    "# ->> With the calls to `len`, the strings are converted to integers and the higher one (the maximum) is returned"
   ]
  },
  {
   "cell_type": "code",
   "execution_count": null,
   "metadata": {
    "scrolled": true
   },
   "outputs": [],
   "source": [
    "# And what is happening / going wrong here?\n",
    "\n",
    "max(len(rich), poor)"
   ]
  },
  {
   "cell_type": "code",
   "execution_count": null,
   "metadata": {},
   "outputs": [],
   "source": [
    "# ->> len(rich) turns into the integer 4, which leads to a type mismatch with the string \"tin\""
   ]
  },
  {
   "cell_type": "code",
   "execution_count": null,
   "metadata": {},
   "outputs": [],
   "source": [
    "# Understand what the following code does and fill in the blanks\n",
    "# Don't forget that you can use `help` to understand functions!\n",
    "\n",
    "____ math import ____, ____\n",
    "\n",
    "angle = degrees(pi / 2)\n",
    "\n",
    "print(angle)"
   ]
  },
  {
   "cell_type": "code",
   "execution_count": null,
   "metadata": {},
   "outputs": [],
   "source": [
    "# ->> `degrees` converts angles in radians, such as pi/2 into degrees\n",
    "\n",
    "from math import degrees, pi\n",
    "\n",
    "angle = degrees(pi / 2)\n",
    "\n",
    "print(angle)"
   ]
  },
  {
   "cell_type": "code",
   "execution_count": null,
   "metadata": {},
   "outputs": [],
   "source": [
    "# What is the problem with the following code? What do you expect to happen?\n",
    "\n",
    "# First think, then run it to check, then make sure you understand\n",
    "\n",
    "from math import log\n",
    "\n",
    "log(0.0)"
   ]
  },
  {
   "cell_type": "code",
   "execution_count": null,
   "metadata": {},
   "outputs": [],
   "source": [
    "# ->> The logarithm is not defined for zero; \n",
    "#     aka zero is outside the domain for which the mathematical function `log` is defined"
   ]
  },
  {
   "cell_type": "code",
   "execution_count": null,
   "metadata": {},
   "outputs": [],
   "source": [
    "# You want to select a random character from this string:\n",
    "\n",
    "bases = 'ACTTGCTTGAC'\n",
    "\n",
    "# Which module from the standard library could help you? See `https://docs.python.org/3/library`\n",
    "\n",
    "# Which function could be used? Are there multiple alternatives?\n",
    "\n",
    "# Write a program that uses the function to select the character"
   ]
  },
  {
   "cell_type": "code",
   "execution_count": null,
   "metadata": {},
   "outputs": [],
   "source": [
    "# ->> Solution\n",
    "\n",
    "from random import randint, randrange, sample, seed\n",
    "\n",
    "# Note: To make the result of code using pseudo-random number generators reproducible,\n",
    "#       a strategy called \"seeding\" is used. If you specify the seed, the sequence of\n",
    "#       random numbers generated will be the exact same everytime the code is run from\n",
    "#       the very beginning!\n",
    "seed(42)\n",
    "\n",
    "random_index = randint(0, len(bases)-1)\n",
    "random_base = bases[random_index]\n",
    "print(random_base)\n",
    "\n",
    "random_index = randrange(0, len(bases))\n",
    "random_base = bases[random_index]\n",
    "print(random_base)\n",
    "\n",
    "random_base = sample(bases, 1)[0]\n",
    "print(random_base)"
   ]
  },
  {
   "cell_type": "markdown",
   "metadata": {},
   "source": [
    "----\n",
    "\n",
    "_<font color=purple>**END OF EXERCISES 2**</font>_\n",
    "\n",
    "Let us briefly review:\n",
    "\n",
    "- Functions are packaged procedures; we `call` them with `arguments` and they `return` an output\n",
    "- Functions can have no, one or many arguments; they can have optional arguments with a defined default\n",
    "- There are built-in functions that come with python but many more are available through libraries\n",
    "- There's the python standard library that comes with python and many more third-party libraries\n",
    "- Use `help` (or `?` or `Shift+Tab`) to inspect objects\n",
    "- If further help is needed, googling is a good idea!"
   ]
  },
  {
   "cell_type": "markdown",
   "metadata": {},
   "source": [
    "*Attribution: This material is based on the SoftwareCarpentry [\"Plotting and Programming in Python\" course](https://swcarpentry.github.io/python-novice-gapminder/). It is used in agreement with their CC-BY 4.0 license.*"
   ]
  }
 ],
 "metadata": {
  "kernelspec": {
   "display_name": "Python 3",
   "language": "python",
   "name": "python3"
  },
  "language_info": {
   "codemirror_mode": {
    "name": "ipython",
    "version": 3
   },
   "file_extension": ".py",
   "mimetype": "text/x-python",
   "name": "python",
   "nbconvert_exporter": "python",
   "pygments_lexer": "ipython3",
   "version": "3.7.3"
  }
 },
 "nbformat": 4,
 "nbformat_minor": 2
}
